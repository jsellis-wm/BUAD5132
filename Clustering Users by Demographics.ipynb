{
 "cells": [
  {
   "cell_type": "markdown",
   "id": "b399240a",
   "metadata": {},
   "source": [
    "# Clustering Users by Age and Gender\n",
    "\n",
    "### Environment\n",
    "\n",
    "The directory structure for this notebook is as follows:\n",
    "\n",
    "- root\n",
    "    - group\n",
    "        - Clustering Users by Demographics.ipynb\n",
    "        - users_clustered.csv (will output at the end of the notebook)\n",
    "    - ml-100k\n",
    "        - u.user\n",
    "\n",
    "### Introduction\n",
    "\n",
    "In this Jupyter notebook, we build a k-means clustering model based a user age and gender. Once we have a clustering model, we can use it to categorize each user into a cluster. An ALS recommendation model will then be built, narrowing the population of all users in the data set to a sample belonging to the same user cluster as the person of interest.\n",
    "\n",
    "To begin our cluster modeling, we import a few necessary pacakges from `pyspark`. Please ensure you have `pyspark` loaded in the virtual environment used to run this notebook. If your receive an error message telling you there is no module named `pyspark`, please see this [Stack Overflow](https://stackoverflow.com/questions/34302314/no-module-name-pyspark-error/34347373) post to help troubleshoot. Just make sure that if you are using anaconda, you install `pyspark` with `conda install pyspark`."
   ]
  },
  {
   "cell_type": "code",
   "execution_count": 1,
   "id": "67e247e2",
   "metadata": {},
   "outputs": [],
   "source": [
    "# load matplotlib dependencies\n",
    "import matplotlib.pyplot as plt\n",
    "from matplotlib.ticker import MaxNLocator\n",
    "\n",
    "# load pyspark dependencies\n",
    "from pyspark.sql import SparkSession\n",
    "from pyspark.sql.types import StructType, StructField, IntegerType, StringType\n",
    "from pyspark.ml import Pipeline\n",
    "from pyspark.ml.clustering import KMeans\n",
    "from pyspark.ml.evaluation import ClusteringEvaluator\n",
    "from pyspark.ml.feature import StringIndexer, OneHotEncoder, VectorAssembler"
   ]
  },
  {
   "cell_type": "markdown",
   "id": "2d2d50a2",
   "metadata": {},
   "source": [
    "### The Setup\n",
    "\n",
    "Before we can do anything with Spark, we must instantiate our session. Additionally, we will grab the Spark context from the session to help with importing the user data."
   ]
  },
  {
   "cell_type": "code",
   "execution_count": 2,
   "id": "54042150",
   "metadata": {},
   "outputs": [],
   "source": [
    "# create a Spark session\n",
    "spark = SparkSession.builder.appName(\"UserClustering\").getOrCreate()\n",
    "\n",
    "# get the Spark context\n",
    "sc = spark.sparkContext"
   ]
  },
  {
   "cell_type": "markdown",
   "id": "002898bb",
   "metadata": {},
   "source": [
    "Next, we define a mapping function to help code the user's gender while we import the data into the Spark context. Then, we read the `u.user` file."
   ]
  },
  {
   "cell_type": "code",
   "execution_count": 3,
   "id": "ae2fb0f5",
   "metadata": {},
   "outputs": [],
   "source": [
    "# define a function to read in users\n",
    "def mapper(line):\n",
    "    fields = line.split(\"|\")\n",
    "    return (int(fields[0]), int(fields[1]), fields[2], fields[3])\n",
    "    \n",
    "# gett the user text file\n",
    "rdd = sc.textFile(\"../ml-100k/u.user\").map(mapper)"
   ]
  },
  {
   "cell_type": "markdown",
   "id": "9b0d3551",
   "metadata": {},
   "source": [
    "We currently have an RDD containing our users' age and gender (represented by 0s and 1s). In order to use the KMeans clustering methods in Spark, we need our data arranged as a DataFrame. Since our user data file did not have headers, we specify a schema before creating the user DataFrame."
   ]
  },
  {
   "cell_type": "code",
   "execution_count": 4,
   "id": "be51380a",
   "metadata": {},
   "outputs": [
    {
     "name": "stdout",
     "output_type": "stream",
     "text": [
      "+------+---+------+----------+\n",
      "|UserId|Age|Gender|Occupation|\n",
      "+------+---+------+----------+\n",
      "|     1| 24|     M|technician|\n",
      "|     2| 53|     F|     other|\n",
      "|     3| 23|     M|    writer|\n",
      "|     4| 24|     M|technician|\n",
      "|     5| 33|     F|     other|\n",
      "+------+---+------+----------+\n",
      "only showing top 5 rows\n",
      "\n"
     ]
    }
   ],
   "source": [
    "# build the user schema\n",
    "userSchema = StructType([ \\\n",
    "             StructField(\"UserId\", IntegerType(), True), \\\n",
    "             StructField(\"Age\", IntegerType(), True), \\\n",
    "             StructField(\"Gender\", StringType(), True), \\\n",
    "             StructField(\"Occupation\", StringType(), True)])\n",
    "\n",
    "# convert the RDD to a DataFrame with the user schema\n",
    "users = spark.createDataFrame(rdd, userSchema)\n",
    "\n",
    "# show the first 5 rows of the users DataFrame\n",
    "users.show(5)"
   ]
  },
  {
   "cell_type": "markdown",
   "id": "d05aa927",
   "metadata": {},
   "source": [
    "### K-Means Clustering\n",
    "\n",
    "In order to run the KMeans algorithm, `pyspark` needs numerical values, so we need to convert the Gender and Occupation fields to numerical values. Further, since they are categorical, we will one-hot encode them. We will use instances of `StringIndexer` and `OneHotEncoder` to accomplish these tasks. Additionally, `pyspark` expects the features to be bundled into a single vector. To accomplish this task, we create an instance of `VectorAssembler`. Finally, we put all the pieces together as a `Pipeline` object."
   ]
  },
  {
   "cell_type": "code",
   "execution_count": 5,
   "id": "15432fc1",
   "metadata": {},
   "outputs": [
    {
     "name": "stdout",
     "output_type": "stream",
     "text": [
      "+------+--------------------+\n",
      "|UserId|            features|\n",
      "+------+--------------------+\n",
      "|     1|(22,[0,12,21],[1....|\n",
      "|     2|(22,[2,21],[1.0,5...|\n",
      "|     3|(22,[0,8,21],[1.0...|\n",
      "|     4|(22,[0,12,21],[1....|\n",
      "|     5|(22,[2,21],[1.0,3...|\n",
      "+------+--------------------+\n",
      "only showing top 5 rows\n",
      "\n"
     ]
    }
   ],
   "source": [
    "# define a function to collapse all features into a single feature vector\n",
    "# indexes categorical variables then one-hot encodes them\n",
    "def collapse_features(df, idCol, catCols, numCols):\n",
    "    indexers = [StringIndexer(inputCol = catCol, outputCol = f\"{catCol}Indexed\") for catCol in catCols]\n",
    "    \n",
    "    encoders = [OneHotEncoder(inputCol = indexer.getOutputCol(), outputCol = f\"{indexer.getOutputCol()}Encoded\") for indexer in indexers]\n",
    "    \n",
    "    assembler = VectorAssembler(inputCols = [encoder.getOutputCol() for encoder in encoders] + numCols, outputCol = \"features\")\n",
    "    \n",
    "    pipeline = Pipeline(stages = indexers + encoders + [assembler])\n",
    "    \n",
    "    model = pipeline.fit(df)\n",
    "    data = model.transform(df)\n",
    "    \n",
    "    return data.select(idCol, \"features\")\n",
    "\n",
    "# collapse age, gender, and occupation into a single feature vector for each user\n",
    "users = collapse_features(users, \"UserId\", [\"Gender\", \"Occupation\"], [\"Age\"])\n",
    "\n",
    "# show the first 5 rows of the users DataFrame\n",
    "users.show(5)"
   ]
  },
  {
   "cell_type": "markdown",
   "id": "ee957831",
   "metadata": {},
   "source": [
    "Now that our user age and gender values are bundled into feature vectors, we can use the KMeans algorithm in Spark. Rather than guess a single value for $k$, we will perform the modeling over the range $2 \\leq k \\leq 10$. To evaluate our models and determine the most reasonable value for $k$, we use a `ClusteringEvaluator` to minimize the squared Euclidean distance between points in each cluster.\n",
    "\n",
    "**This may take quite a bit of time to run**"
   ]
  },
  {
   "cell_type": "code",
   "execution_count": 6,
   "id": "1d451f9f",
   "metadata": {},
   "outputs": [],
   "source": [
    "# create an empty list to hold the silhouette scores for each model run\n",
    "silhouette_scores = []\n",
    "\n",
    "# create an evaluator to score each model run\n",
    "evaluator = ClusteringEvaluator( \\\n",
    "    predictionCol = \"prediction\", \\\n",
    "    featuresCol = \"features\", \\\n",
    "    metricName = \"silhouette\", \\\n",
    "    distanceMeasure = \"squaredEuclidean\" \\\n",
    ")\n",
    "\n",
    "# run the KMeans algorithm for k in [2, 10]\n",
    "for i in range(2, 11):\n",
    "    \n",
    "    # set the model parameters\n",
    "    kmeans = KMeans(featuresCol = \"features\", k = i).setSeed(123)\n",
    "    \n",
    "    # fit the model to the users DataFrame\n",
    "    fit = kmeans.fit(users)\n",
    "    \n",
    "    # create a new DataFrame with the user clusters\n",
    "    output = fit.transform(users)\n",
    "    \n",
    "    # evaluate the output using the ClusteringEvaluator\n",
    "    score = evaluator.evaluate(output)\n",
    "    \n",
    "    # add the model's silhouette score to the list\n",
    "    silhouette_scores.append(score)"
   ]
  },
  {
   "cell_type": "markdown",
   "id": "e91b6c22",
   "metadata": {},
   "source": [
    "### Visualize the Silhouette Scores\n",
    "Rather than view a table of values, we visualize the silhouette scores using `matplotlib`."
   ]
  },
  {
   "cell_type": "code",
   "execution_count": 7,
   "id": "7d656591",
   "metadata": {
    "scrolled": false
   },
   "outputs": [
    {
     "data": {
      "image/png": "[encoded data removed]",
      "text/plain": [
       "<Figure size 720x576 with 1 Axes>"
      ]
     },
     "metadata": {
      "needs_background": "light"
     },
     "output_type": "display_data"
    }
   ],
   "source": [
    "# visualize the silhouette scores\n",
    "fig, ax = plt.subplots(1, 1, figsize = (10, 8))\n",
    "ax.plot(range(2, 11), silhouette_scores)\n",
    "ax.set_xlabel('Number of Clusters')\n",
    "ax.set_ylabel('Silhouette Score')\n",
    "ax.set_title(\"Scoring the Number of Clusters\", fontsize = 16, loc = \"left\")\n",
    "\n",
    "x_ax = ax.axes.get_xaxis()\n",
    "x_ax.set_major_locator(MaxNLocator(integer=True))"
   ]
  },
  {
   "cell_type": "markdown",
   "id": "fde986c4",
   "metadata": {},
   "source": [
    "### Clustered the Users\n",
    "\n",
    "Examining the plot above shows that $k = 3$ clusters is the local maximum silhouette score. Thus we will cluster the users into four groups using their age, gender and occupation, creating a new DataFrame with the clustering attached. Finally, we save the clustered users DataFrame as a CSV for consumption in the recommender application."
   ]
  },
  {
   "cell_type": "code",
   "execution_count": 8,
   "id": "09ff0d19",
   "metadata": {},
   "outputs": [],
   "source": [
    "# set the model parameters\n",
    "kmeans = KMeans(featuresCol = \"features\", k = 3).setSeed(123)\n",
    "    \n",
    "# fit the model to the users DataFrame\n",
    "fit = kmeans.fit(users)\n",
    "    \n",
    "# create a new DataFrame with the user clusters\n",
    "users_clustered = fit.transform(users).select(\"UserId\", \"Prediction\").withColumnRenamed(\"Prediction\", \"Cluster\")"
   ]
  },
  {
   "cell_type": "code",
   "execution_count": 9,
   "id": "6d957b93",
   "metadata": {},
   "outputs": [
    {
     "name": "stdout",
     "output_type": "stream",
     "text": [
      "+------+-------+\n",
      "|UserId|Cluster|\n",
      "+------+-------+\n",
      "|     1|      2|\n",
      "|     2|      1|\n",
      "|     3|      2|\n",
      "|     4|      2|\n",
      "|     5|      0|\n",
      "+------+-------+\n",
      "only showing top 5 rows\n",
      "\n"
     ]
    }
   ],
   "source": [
    "# show the first 5 rows of the clustered users DataFrame\n",
    "users_clustered.show(5)"
   ]
  },
  {
   "cell_type": "code",
   "execution_count": 10,
   "id": "e3fe71f0",
   "metadata": {
    "scrolled": false
   },
   "outputs": [],
   "source": [
    "# save the clustered users DataFrame as a CSV for use in the recommender application\n",
    "users_clustered.toPandas().to_csv(\"users_clustered.csv\", index = False)"
   ]
  }
 ],
 "metadata": {
  "kernelspec": {
   "display_name": "Python 3 (ipykernel)",
   "language": "python",
   "name": "python3"
  },
  "language_info": {
   "codemirror_mode": {
    "name": "ipython",
    "version": 3
   },
   "file_extension": ".py",
   "mimetype": "text/x-python",
   "name": "python",
   "nbconvert_exporter": "python",
   "pygments_lexer": "ipython3",
   "version": "3.9.7"
  }
 },
 "nbformat": 4,
 "nbformat_minor": 5
}
